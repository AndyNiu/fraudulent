{
 "cells": [
  {
   "cell_type": "code",
   "execution_count": 1,
   "metadata": {},
   "outputs": [],
   "source": [
    "import pandas as pd\n",
    "import numpy as np\n",
    "import seaborn as sns # 不知道为啥seaborn的简写是sns...documentation里这样写就这样吧\n",
    "import matplotlib.pyplot as plt"
   ]
  },
  {
   "cell_type": "code",
   "execution_count": 2,
   "metadata": {},
   "outputs": [],
   "source": [
    "data=pd.read_csv(\"fake_job_postings_train.csv\")\n",
    "test=pd.read_csv(\"fake_job_postings_test.csv\")"
   ]
  },
  {
   "cell_type": "code",
   "execution_count": 3,
   "metadata": {},
   "outputs": [
    {
     "data": {
      "text/html": [
       "<div>\n",
       "<style scoped>\n",
       "    .dataframe tbody tr th:only-of-type {\n",
       "        vertical-align: middle;\n",
       "    }\n",
       "\n",
       "    .dataframe tbody tr th {\n",
       "        vertical-align: top;\n",
       "    }\n",
       "\n",
       "    .dataframe thead th {\n",
       "        text-align: right;\n",
       "    }\n",
       "</style>\n",
       "<table border=\"1\" class=\"dataframe\">\n",
       "  <thead>\n",
       "    <tr style=\"text-align: right;\">\n",
       "      <th></th>\n",
       "      <th>job_id</th>\n",
       "      <th>title</th>\n",
       "      <th>location</th>\n",
       "      <th>department</th>\n",
       "      <th>salary_range</th>\n",
       "      <th>company_profile</th>\n",
       "      <th>description</th>\n",
       "      <th>requirements</th>\n",
       "      <th>benefits</th>\n",
       "      <th>telecommuting</th>\n",
       "      <th>has_company_logo</th>\n",
       "      <th>has_questions</th>\n",
       "      <th>employment_type</th>\n",
       "      <th>required_experience</th>\n",
       "      <th>required_education</th>\n",
       "      <th>industry</th>\n",
       "      <th>function</th>\n",
       "    </tr>\n",
       "  </thead>\n",
       "  <tbody>\n",
       "    <tr>\n",
       "      <th>0</th>\n",
       "      <td>8f154fcd1e9b4519ae705957e47bf8f5</td>\n",
       "      <td>Marketing / Sales Executives</td>\n",
       "      <td>IN, KA, Bangalore</td>\n",
       "      <td>Marketing</td>\n",
       "      <td>NaN</td>\n",
       "      <td>Who are we?Creators Lab (aka #URL_285fcfb70c84...</td>\n",
       "      <td>Who are we looking for: Marketing / Sales Exec...</td>\n",
       "      <td>Education and ExperienceA college degree or eq...</td>\n",
       "      <td>Work With Us and GetResponsibility: What you d...</td>\n",
       "      <td>0</td>\n",
       "      <td>1</td>\n",
       "      <td>1</td>\n",
       "      <td>Full-time</td>\n",
       "      <td>Not Applicable</td>\n",
       "      <td>Bachelor's Degree</td>\n",
       "      <td>Information Technology and Services</td>\n",
       "      <td>Marketing</td>\n",
       "    </tr>\n",
       "    <tr>\n",
       "      <th>1</th>\n",
       "      <td>8f15fe4c47c846cfa6ccb2ea1fd54102</td>\n",
       "      <td>I want to work at Vend in AUCKLAND</td>\n",
       "      <td>NZ, N, Auckland</td>\n",
       "      <td>All</td>\n",
       "      <td>NaN</td>\n",
       "      <td>Vend is looking for some awesome new talent to...</td>\n",
       "      <td>No suitable jobs right now on our jobs page?  ...</td>\n",
       "      <td>Are you enthusiastic about the retail industry...</td>\n",
       "      <td>When you work at Vend you can expect the follo...</td>\n",
       "      <td>0</td>\n",
       "      <td>1</td>\n",
       "      <td>1</td>\n",
       "      <td>NaN</td>\n",
       "      <td>NaN</td>\n",
       "      <td>NaN</td>\n",
       "      <td>NaN</td>\n",
       "      <td>NaN</td>\n",
       "    </tr>\n",
       "    <tr>\n",
       "      <th>2</th>\n",
       "      <td>8f1978db679f40448dc6ef3bb1747434</td>\n",
       "      <td>Mechanical Engineer</td>\n",
       "      <td>NG, LA, lagos</td>\n",
       "      <td>Admin</td>\n",
       "      <td>NaN</td>\n",
       "      <td>NaN</td>\n",
       "      <td>Qualifications and Requirements:The ideal cand...</td>\n",
       "      <td>Qualifications and Requirements:The ideal cand...</td>\n",
       "      <td>Qualifications and Requirements:The ideal cand...</td>\n",
       "      <td>0</td>\n",
       "      <td>1</td>\n",
       "      <td>0</td>\n",
       "      <td>Full-time</td>\n",
       "      <td>Director</td>\n",
       "      <td>Master's Degree</td>\n",
       "      <td>Airlines/Aviation</td>\n",
       "      <td>Engineering</td>\n",
       "    </tr>\n",
       "    <tr>\n",
       "      <th>3</th>\n",
       "      <td>8f22bb4c9c524034a1f01b96ac98d7be</td>\n",
       "      <td>M16 9HQ Warehousing Apprenticeship Under NAS 1...</td>\n",
       "      <td>GB, MAN, Old Trafford</td>\n",
       "      <td>NaN</td>\n",
       "      <td>NaN</td>\n",
       "      <td>Established on the principles that full time e...</td>\n",
       "      <td>This is fantastic opportunity for someone want...</td>\n",
       "      <td>Government funding is only available for 16-18...</td>\n",
       "      <td>Future Prospects</td>\n",
       "      <td>0</td>\n",
       "      <td>1</td>\n",
       "      <td>0</td>\n",
       "      <td>Full-time</td>\n",
       "      <td>Internship</td>\n",
       "      <td>High School or equivalent</td>\n",
       "      <td>Warehousing</td>\n",
       "      <td>NaN</td>\n",
       "    </tr>\n",
       "    <tr>\n",
       "      <th>4</th>\n",
       "      <td>8f24bad7d85e45698c3369c178265a17</td>\n",
       "      <td>Embedded and Application Engineer</td>\n",
       "      <td>NZ, N, Auckland</td>\n",
       "      <td>Engineering</td>\n",
       "      <td>NaN</td>\n",
       "      <td>Want to be part of a NZ success story that’s g...</td>\n",
       "      <td>We are #URL_f33bebd1256d2e62399cf4a277a4a8731d...</td>\n",
       "      <td>As an expert in Embedded Development you will ...</td>\n",
       "      <td>We are in an exciting growth phase, if you wou...</td>\n",
       "      <td>0</td>\n",
       "      <td>1</td>\n",
       "      <td>1</td>\n",
       "      <td>Full-time</td>\n",
       "      <td>Associate</td>\n",
       "      <td>Bachelor's Degree</td>\n",
       "      <td>Information Technology and Services</td>\n",
       "      <td>Engineering</td>\n",
       "    </tr>\n",
       "  </tbody>\n",
       "</table>\n",
       "</div>"
      ],
      "text/plain": [
       "                             job_id  \\\n",
       "0  8f154fcd1e9b4519ae705957e47bf8f5   \n",
       "1  8f15fe4c47c846cfa6ccb2ea1fd54102   \n",
       "2  8f1978db679f40448dc6ef3bb1747434   \n",
       "3  8f22bb4c9c524034a1f01b96ac98d7be   \n",
       "4  8f24bad7d85e45698c3369c178265a17   \n",
       "\n",
       "                                               title               location  \\\n",
       "0                       Marketing / Sales Executives      IN, KA, Bangalore   \n",
       "1                 I want to work at Vend in AUCKLAND        NZ, N, Auckland   \n",
       "2                                Mechanical Engineer          NG, LA, lagos   \n",
       "3  M16 9HQ Warehousing Apprenticeship Under NAS 1...  GB, MAN, Old Trafford   \n",
       "4                  Embedded and Application Engineer       NZ, N, Auckland    \n",
       "\n",
       "    department salary_range  \\\n",
       "0    Marketing          NaN   \n",
       "1          All          NaN   \n",
       "2        Admin          NaN   \n",
       "3          NaN          NaN   \n",
       "4  Engineering          NaN   \n",
       "\n",
       "                                     company_profile  \\\n",
       "0  Who are we?Creators Lab (aka #URL_285fcfb70c84...   \n",
       "1  Vend is looking for some awesome new talent to...   \n",
       "2                                                NaN   \n",
       "3  Established on the principles that full time e...   \n",
       "4  Want to be part of a NZ success story that’s g...   \n",
       "\n",
       "                                         description  \\\n",
       "0  Who are we looking for: Marketing / Sales Exec...   \n",
       "1  No suitable jobs right now on our jobs page?  ...   \n",
       "2  Qualifications and Requirements:The ideal cand...   \n",
       "3  This is fantastic opportunity for someone want...   \n",
       "4  We are #URL_f33bebd1256d2e62399cf4a277a4a8731d...   \n",
       "\n",
       "                                        requirements  \\\n",
       "0  Education and ExperienceA college degree or eq...   \n",
       "1  Are you enthusiastic about the retail industry...   \n",
       "2  Qualifications and Requirements:The ideal cand...   \n",
       "3  Government funding is only available for 16-18...   \n",
       "4  As an expert in Embedded Development you will ...   \n",
       "\n",
       "                                            benefits  telecommuting  \\\n",
       "0  Work With Us and GetResponsibility: What you d...              0   \n",
       "1  When you work at Vend you can expect the follo...              0   \n",
       "2  Qualifications and Requirements:The ideal cand...              0   \n",
       "3                                   Future Prospects              0   \n",
       "4  We are in an exciting growth phase, if you wou...              0   \n",
       "\n",
       "   has_company_logo  has_questions employment_type required_experience  \\\n",
       "0                 1              1       Full-time      Not Applicable   \n",
       "1                 1              1             NaN                 NaN   \n",
       "2                 1              0       Full-time            Director   \n",
       "3                 1              0       Full-time          Internship   \n",
       "4                 1              1       Full-time           Associate   \n",
       "\n",
       "          required_education                             industry     function  \n",
       "0          Bachelor's Degree  Information Technology and Services    Marketing  \n",
       "1                        NaN                                  NaN          NaN  \n",
       "2            Master's Degree                    Airlines/Aviation  Engineering  \n",
       "3  High School or equivalent                          Warehousing          NaN  \n",
       "4          Bachelor's Degree  Information Technology and Services  Engineering  "
      ]
     },
     "execution_count": 3,
     "metadata": {},
     "output_type": "execute_result"
    }
   ],
   "source": [
    "data.head()\n",
    "test.head()"
   ]
  },
  {
   "cell_type": "code",
   "execution_count": 4,
   "metadata": {},
   "outputs": [
    {
     "data": {
      "text/plain": [
       "<matplotlib.axes._subplots.AxesSubplot at 0x7f89ef6f4748>"
      ]
     },
     "execution_count": 4,
     "metadata": {},
     "output_type": "execute_result"
    },
    {
     "data": {
      "image/png": "[encoded data removed]",
      "text/plain": [
       "<Figure size 432x288 with 1 Axes>"
      ]
     },
     "metadata": {
      "needs_background": "light"
     },
     "output_type": "display_data"
    }
   ],
   "source": [
    "sns.distplot(data['fraudulent'])"
   ]
  },
  {
   "cell_type": "code",
   "execution_count": 5,
   "metadata": {},
   "outputs": [
    {
     "data": {
      "text/plain": [
       "0    9514\n",
       "1     485\n",
       "Name: fraudulent, dtype: int64"
      ]
     },
     "execution_count": 5,
     "metadata": {},
     "output_type": "execute_result"
    }
   ],
   "source": [
    "data['fraudulent'].value_counts()"
   ]
  },
  {
   "cell_type": "code",
   "execution_count": 6,
   "metadata": {},
   "outputs": [
    {
     "name": "stdout",
     "output_type": "stream",
     "text": [
      "<class 'pandas.core.frame.DataFrame'>\n",
      "RangeIndex: 9999 entries, 0 to 9998\n",
      "Data columns (total 18 columns):\n",
      " #   Column               Non-Null Count  Dtype \n",
      "---  ------               --------------  ----- \n",
      " 0   job_id               9999 non-null   object\n",
      " 1   title                9999 non-null   object\n",
      " 2   location             9801 non-null   object\n",
      " 3   department           3611 non-null   object\n",
      " 4   salary_range         1606 non-null   object\n",
      " 5   company_profile      8114 non-null   object\n",
      " 6   description          9999 non-null   object\n",
      " 7   requirements         8434 non-null   object\n",
      " 8   benefits             5917 non-null   object\n",
      " 9   telecommuting        9999 non-null   int64 \n",
      " 10  has_company_logo     9999 non-null   int64 \n",
      " 11  has_questions        9999 non-null   int64 \n",
      " 12  employment_type      8007 non-null   object\n",
      " 13  required_experience  6039 non-null   object\n",
      " 14  required_education   5451 non-null   object\n",
      " 15  industry             7218 non-null   object\n",
      " 16  function             6345 non-null   object\n",
      " 17  fraudulent           9999 non-null   int64 \n",
      "dtypes: int64(4), object(14)\n",
      "memory usage: 1.4+ MB\n",
      "<class 'pandas.core.frame.DataFrame'>\n",
      "RangeIndex: 7881 entries, 0 to 7880\n",
      "Data columns (total 17 columns):\n",
      " #   Column               Non-Null Count  Dtype \n",
      "---  ------               --------------  ----- \n",
      " 0   job_id               7881 non-null   object\n",
      " 1   title                7881 non-null   object\n",
      " 2   location             7733 non-null   object\n",
      " 3   department           2722 non-null   object\n",
      " 4   salary_range         1262 non-null   object\n",
      " 5   company_profile      6458 non-null   object\n",
      " 6   description          7880 non-null   object\n",
      " 7   requirements         6751 non-null   object\n",
      " 8   benefits             4753 non-null   object\n",
      " 9   telecommuting        7881 non-null   int64 \n",
      " 10  has_company_logo     7881 non-null   int64 \n",
      " 11  has_questions        7881 non-null   int64 \n",
      " 12  employment_type      6402 non-null   object\n",
      " 13  required_experience  4791 non-null   object\n",
      " 14  required_education   4324 non-null   object\n",
      " 15  industry             5759 non-null   object\n",
      " 16  function             5080 non-null   object\n",
      "dtypes: int64(3), object(14)\n",
      "memory usage: 1.0+ MB\n"
     ]
    }
   ],
   "source": [
    "data.info()\n",
    "test.info()"
   ]
  },
  {
   "cell_type": "code",
   "execution_count": 7,
   "metadata": {},
   "outputs": [
    {
     "data": {
      "text/html": [
       "<div>\n",
       "<style scoped>\n",
       "    .dataframe tbody tr th:only-of-type {\n",
       "        vertical-align: middle;\n",
       "    }\n",
       "\n",
       "    .dataframe tbody tr th {\n",
       "        vertical-align: top;\n",
       "    }\n",
       "\n",
       "    .dataframe thead th {\n",
       "        text-align: right;\n",
       "    }\n",
       "</style>\n",
       "<table border=\"1\" class=\"dataframe\">\n",
       "  <thead>\n",
       "    <tr style=\"text-align: right;\">\n",
       "      <th></th>\n",
       "      <th>telecommuting</th>\n",
       "      <th>has_company_logo</th>\n",
       "      <th>has_questions</th>\n",
       "      <th>fraudulent</th>\n",
       "    </tr>\n",
       "  </thead>\n",
       "  <tbody>\n",
       "    <tr>\n",
       "      <th>count</th>\n",
       "      <td>9999.000000</td>\n",
       "      <td>9999.000000</td>\n",
       "      <td>9999.000000</td>\n",
       "      <td>9999.000000</td>\n",
       "    </tr>\n",
       "    <tr>\n",
       "      <th>mean</th>\n",
       "      <td>0.042304</td>\n",
       "      <td>0.794879</td>\n",
       "      <td>0.492949</td>\n",
       "      <td>0.048505</td>\n",
       "    </tr>\n",
       "    <tr>\n",
       "      <th>std</th>\n",
       "      <td>0.201292</td>\n",
       "      <td>0.403810</td>\n",
       "      <td>0.499975</td>\n",
       "      <td>0.214841</td>\n",
       "    </tr>\n",
       "    <tr>\n",
       "      <th>min</th>\n",
       "      <td>0.000000</td>\n",
       "      <td>0.000000</td>\n",
       "      <td>0.000000</td>\n",
       "      <td>0.000000</td>\n",
       "    </tr>\n",
       "    <tr>\n",
       "      <th>25%</th>\n",
       "      <td>0.000000</td>\n",
       "      <td>1.000000</td>\n",
       "      <td>0.000000</td>\n",
       "      <td>0.000000</td>\n",
       "    </tr>\n",
       "    <tr>\n",
       "      <th>50%</th>\n",
       "      <td>0.000000</td>\n",
       "      <td>1.000000</td>\n",
       "      <td>0.000000</td>\n",
       "      <td>0.000000</td>\n",
       "    </tr>\n",
       "    <tr>\n",
       "      <th>75%</th>\n",
       "      <td>0.000000</td>\n",
       "      <td>1.000000</td>\n",
       "      <td>1.000000</td>\n",
       "      <td>0.000000</td>\n",
       "    </tr>\n",
       "    <tr>\n",
       "      <th>max</th>\n",
       "      <td>1.000000</td>\n",
       "      <td>1.000000</td>\n",
       "      <td>1.000000</td>\n",
       "      <td>1.000000</td>\n",
       "    </tr>\n",
       "  </tbody>\n",
       "</table>\n",
       "</div>"
      ],
      "text/plain": [
       "       telecommuting  has_company_logo  has_questions   fraudulent\n",
       "count    9999.000000       9999.000000    9999.000000  9999.000000\n",
       "mean        0.042304          0.794879       0.492949     0.048505\n",
       "std         0.201292          0.403810       0.499975     0.214841\n",
       "min         0.000000          0.000000       0.000000     0.000000\n",
       "25%         0.000000          1.000000       0.000000     0.000000\n",
       "50%         0.000000          1.000000       0.000000     0.000000\n",
       "75%         0.000000          1.000000       1.000000     0.000000\n",
       "max         1.000000          1.000000       1.000000     1.000000"
      ]
     },
     "execution_count": 7,
     "metadata": {},
     "output_type": "execute_result"
    }
   ],
   "source": [
    "data.describe()\n",
    "test.describe()"
   ]
  },
  {
   "cell_type": "code",
   "execution_count": 9,
   "metadata": {},
   "outputs": [
    {
     "data": {
      "text/plain": [
       "job_id                    0\n",
       "title                     0\n",
       "location                148\n",
       "department             5159\n",
       "salary_range           6619\n",
       "company_profile        1423\n",
       "description               1\n",
       "requirements           1130\n",
       "benefits               3128\n",
       "telecommuting             0\n",
       "has_company_logo          0\n",
       "has_questions             0\n",
       "employment_type        1479\n",
       "required_experience    3090\n",
       "required_education     3557\n",
       "industry               2122\n",
       "function               2801\n",
       "dtype: int64"
      ]
     },
     "execution_count": 9,
     "metadata": {},
     "output_type": "execute_result"
    }
   ],
   "source": [
    "data.isna().sum()\n",
    "test.isna().sum()"
   ]
  },
  {
   "cell_type": "code",
   "execution_count": 13,
   "metadata": {},
   "outputs": [],
   "source": [
    "bin_features = ['telecommuting', 'has_company_logo', 'has_questions']\n",
    "cat_features = ['department', 'employment_type', 'required_experience', \n",
    "                'required_education', 'industry', 'function']\n",
    "\n",
    "text_features = ['title', 'company_profile', 'description', 'requirements', 'benefits']\n",
    "complex_features = ['location', 'salary_range']"
   ]
  },
  {
   "cell_type": "code",
   "execution_count": 14,
   "metadata": {},
   "outputs": [
    {
     "ename": "KeyError",
     "evalue": "\"['job_id'] not found in axis\"",
     "output_type": "error",
     "traceback": [
      "\u001b[0;31m---------------------------------------------------------------------------\u001b[0m",
      "\u001b[0;31mKeyError\u001b[0m                                  Traceback (most recent call last)",
      "\u001b[0;32m<ipython-input-14-1feb0483d09f>\u001b[0m in \u001b[0;36m<module>\u001b[0;34m\u001b[0m\n\u001b[0;32m----> 1\u001b[0;31m \u001b[0mdata\u001b[0m\u001b[0;34m.\u001b[0m\u001b[0mdrop\u001b[0m\u001b[0;34m(\u001b[0m\u001b[0;34m'job_id'\u001b[0m\u001b[0;34m,\u001b[0m \u001b[0maxis\u001b[0m\u001b[0;34m=\u001b[0m\u001b[0;36m1\u001b[0m\u001b[0;34m,\u001b[0m \u001b[0minplace\u001b[0m\u001b[0;34m=\u001b[0m\u001b[0;32mTrue\u001b[0m\u001b[0;34m)\u001b[0m\u001b[0;34m\u001b[0m\u001b[0;34m\u001b[0m\u001b[0m\n\u001b[0m\u001b[1;32m      2\u001b[0m \u001b[0mtest\u001b[0m\u001b[0;34m.\u001b[0m\u001b[0mdrop\u001b[0m\u001b[0;34m(\u001b[0m\u001b[0;34m'job_id'\u001b[0m\u001b[0;34m,\u001b[0m \u001b[0maxis\u001b[0m\u001b[0;34m=\u001b[0m\u001b[0;36m1\u001b[0m\u001b[0;34m,\u001b[0m \u001b[0minplace\u001b[0m\u001b[0;34m=\u001b[0m\u001b[0;32mTrue\u001b[0m\u001b[0;34m)\u001b[0m\u001b[0;34m\u001b[0m\u001b[0;34m\u001b[0m\u001b[0m\n",
      "\u001b[0;32m/usr/local/anaconda3/lib/python3.6/site-packages/pandas/core/frame.py\u001b[0m in \u001b[0;36mdrop\u001b[0;34m(self, labels, axis, index, columns, level, inplace, errors)\u001b[0m\n\u001b[1;32m   4162\u001b[0m             \u001b[0mlevel\u001b[0m\u001b[0;34m=\u001b[0m\u001b[0mlevel\u001b[0m\u001b[0;34m,\u001b[0m\u001b[0;34m\u001b[0m\u001b[0;34m\u001b[0m\u001b[0m\n\u001b[1;32m   4163\u001b[0m             \u001b[0minplace\u001b[0m\u001b[0;34m=\u001b[0m\u001b[0minplace\u001b[0m\u001b[0;34m,\u001b[0m\u001b[0;34m\u001b[0m\u001b[0;34m\u001b[0m\u001b[0m\n\u001b[0;32m-> 4164\u001b[0;31m             \u001b[0merrors\u001b[0m\u001b[0;34m=\u001b[0m\u001b[0merrors\u001b[0m\u001b[0;34m,\u001b[0m\u001b[0;34m\u001b[0m\u001b[0;34m\u001b[0m\u001b[0m\n\u001b[0m\u001b[1;32m   4165\u001b[0m         )\n\u001b[1;32m   4166\u001b[0m \u001b[0;34m\u001b[0m\u001b[0m\n",
      "\u001b[0;32m/usr/local/anaconda3/lib/python3.6/site-packages/pandas/core/generic.py\u001b[0m in \u001b[0;36mdrop\u001b[0;34m(self, labels, axis, index, columns, level, inplace, errors)\u001b[0m\n\u001b[1;32m   3876\u001b[0m         \u001b[0;32mfor\u001b[0m \u001b[0maxis\u001b[0m\u001b[0;34m,\u001b[0m \u001b[0mlabels\u001b[0m \u001b[0;32min\u001b[0m \u001b[0maxes\u001b[0m\u001b[0;34m.\u001b[0m\u001b[0mitems\u001b[0m\u001b[0;34m(\u001b[0m\u001b[0;34m)\u001b[0m\u001b[0;34m:\u001b[0m\u001b[0;34m\u001b[0m\u001b[0;34m\u001b[0m\u001b[0m\n\u001b[1;32m   3877\u001b[0m             \u001b[0;32mif\u001b[0m \u001b[0mlabels\u001b[0m \u001b[0;32mis\u001b[0m \u001b[0;32mnot\u001b[0m \u001b[0;32mNone\u001b[0m\u001b[0;34m:\u001b[0m\u001b[0;34m\u001b[0m\u001b[0;34m\u001b[0m\u001b[0m\n\u001b[0;32m-> 3878\u001b[0;31m                 \u001b[0mobj\u001b[0m \u001b[0;34m=\u001b[0m \u001b[0mobj\u001b[0m\u001b[0;34m.\u001b[0m\u001b[0m_drop_axis\u001b[0m\u001b[0;34m(\u001b[0m\u001b[0mlabels\u001b[0m\u001b[0;34m,\u001b[0m \u001b[0maxis\u001b[0m\u001b[0;34m,\u001b[0m \u001b[0mlevel\u001b[0m\u001b[0;34m=\u001b[0m\u001b[0mlevel\u001b[0m\u001b[0;34m,\u001b[0m \u001b[0merrors\u001b[0m\u001b[0;34m=\u001b[0m\u001b[0merrors\u001b[0m\u001b[0;34m)\u001b[0m\u001b[0;34m\u001b[0m\u001b[0;34m\u001b[0m\u001b[0m\n\u001b[0m\u001b[1;32m   3879\u001b[0m \u001b[0;34m\u001b[0m\u001b[0m\n\u001b[1;32m   3880\u001b[0m         \u001b[0;32mif\u001b[0m \u001b[0minplace\u001b[0m\u001b[0;34m:\u001b[0m\u001b[0;34m\u001b[0m\u001b[0;34m\u001b[0m\u001b[0m\n",
      "\u001b[0;32m/usr/local/anaconda3/lib/python3.6/site-packages/pandas/core/generic.py\u001b[0m in \u001b[0;36m_drop_axis\u001b[0;34m(self, labels, axis, level, errors)\u001b[0m\n\u001b[1;32m   3910\u001b[0m                 \u001b[0mnew_axis\u001b[0m \u001b[0;34m=\u001b[0m \u001b[0maxis\u001b[0m\u001b[0;34m.\u001b[0m\u001b[0mdrop\u001b[0m\u001b[0;34m(\u001b[0m\u001b[0mlabels\u001b[0m\u001b[0;34m,\u001b[0m \u001b[0mlevel\u001b[0m\u001b[0;34m=\u001b[0m\u001b[0mlevel\u001b[0m\u001b[0;34m,\u001b[0m \u001b[0merrors\u001b[0m\u001b[0;34m=\u001b[0m\u001b[0merrors\u001b[0m\u001b[0;34m)\u001b[0m\u001b[0;34m\u001b[0m\u001b[0;34m\u001b[0m\u001b[0m\n\u001b[1;32m   3911\u001b[0m             \u001b[0;32melse\u001b[0m\u001b[0;34m:\u001b[0m\u001b[0;34m\u001b[0m\u001b[0;34m\u001b[0m\u001b[0m\n\u001b[0;32m-> 3912\u001b[0;31m                 \u001b[0mnew_axis\u001b[0m \u001b[0;34m=\u001b[0m \u001b[0maxis\u001b[0m\u001b[0;34m.\u001b[0m\u001b[0mdrop\u001b[0m\u001b[0;34m(\u001b[0m\u001b[0mlabels\u001b[0m\u001b[0;34m,\u001b[0m \u001b[0merrors\u001b[0m\u001b[0;34m=\u001b[0m\u001b[0merrors\u001b[0m\u001b[0;34m)\u001b[0m\u001b[0;34m\u001b[0m\u001b[0;34m\u001b[0m\u001b[0m\n\u001b[0m\u001b[1;32m   3913\u001b[0m             \u001b[0mresult\u001b[0m \u001b[0;34m=\u001b[0m \u001b[0mself\u001b[0m\u001b[0;34m.\u001b[0m\u001b[0mreindex\u001b[0m\u001b[0;34m(\u001b[0m\u001b[0;34m**\u001b[0m\u001b[0;34m{\u001b[0m\u001b[0maxis_name\u001b[0m\u001b[0;34m:\u001b[0m \u001b[0mnew_axis\u001b[0m\u001b[0;34m}\u001b[0m\u001b[0;34m)\u001b[0m\u001b[0;34m\u001b[0m\u001b[0;34m\u001b[0m\u001b[0m\n\u001b[1;32m   3914\u001b[0m \u001b[0;34m\u001b[0m\u001b[0m\n",
      "\u001b[0;32m/usr/local/anaconda3/lib/python3.6/site-packages/pandas/core/indexes/base.py\u001b[0m in \u001b[0;36mdrop\u001b[0;34m(self, labels, errors)\u001b[0m\n\u001b[1;32m   5274\u001b[0m         \u001b[0;32mif\u001b[0m \u001b[0mmask\u001b[0m\u001b[0;34m.\u001b[0m\u001b[0many\u001b[0m\u001b[0;34m(\u001b[0m\u001b[0;34m)\u001b[0m\u001b[0;34m:\u001b[0m\u001b[0;34m\u001b[0m\u001b[0;34m\u001b[0m\u001b[0m\n\u001b[1;32m   5275\u001b[0m             \u001b[0;32mif\u001b[0m \u001b[0merrors\u001b[0m \u001b[0;34m!=\u001b[0m \u001b[0;34m\"ignore\"\u001b[0m\u001b[0;34m:\u001b[0m\u001b[0;34m\u001b[0m\u001b[0;34m\u001b[0m\u001b[0m\n\u001b[0;32m-> 5276\u001b[0;31m                 \u001b[0;32mraise\u001b[0m \u001b[0mKeyError\u001b[0m\u001b[0;34m(\u001b[0m\u001b[0;34mf\"{labels[mask]} not found in axis\"\u001b[0m\u001b[0;34m)\u001b[0m\u001b[0;34m\u001b[0m\u001b[0;34m\u001b[0m\u001b[0m\n\u001b[0m\u001b[1;32m   5277\u001b[0m             \u001b[0mindexer\u001b[0m \u001b[0;34m=\u001b[0m \u001b[0mindexer\u001b[0m\u001b[0;34m[\u001b[0m\u001b[0;34m~\u001b[0m\u001b[0mmask\u001b[0m\u001b[0;34m]\u001b[0m\u001b[0;34m\u001b[0m\u001b[0;34m\u001b[0m\u001b[0m\n\u001b[1;32m   5278\u001b[0m         \u001b[0;32mreturn\u001b[0m \u001b[0mself\u001b[0m\u001b[0;34m.\u001b[0m\u001b[0mdelete\u001b[0m\u001b[0;34m(\u001b[0m\u001b[0mindexer\u001b[0m\u001b[0;34m)\u001b[0m\u001b[0;34m\u001b[0m\u001b[0;34m\u001b[0m\u001b[0m\n",
      "\u001b[0;31mKeyError\u001b[0m: \"['job_id'] not found in axis\""
     ]
    }
   ],
   "source": [
    "data.drop('job_id', axis=1, inplace=True)\n",
    "test.drop('job_id', axis=1, inplace=True)"
   ]
  },
  {
   "cell_type": "code",
   "execution_count": 15,
   "metadata": {},
   "outputs": [],
   "source": [
    "for feature_name in text_features[1:]:\n",
    "    unspec_feature_name = f'{feature_name}_specified'\n",
    "    data[unspec_feature_name] = (~data[feature_name].isna()).astype('int')\n",
    "    bin_features += [unspec_feature_name]"
   ]
  },
  {
   "cell_type": "code",
   "execution_count": 16,
   "metadata": {},
   "outputs": [],
   "source": [
    "for feature_name in text_features[1:]:\n",
    "    unspec_feature_name = f'{feature_name}_specified'\n",
    "    test[unspec_feature_name] = (~test[feature_name].isna()).astype('int')"
   ]
  },
  {
   "cell_type": "code",
   "execution_count": 17,
   "metadata": {},
   "outputs": [
    {
     "data": {
      "text/plain": [
       "['telecommuting',\n",
       " 'has_company_logo',\n",
       " 'has_questions',\n",
       " 'company_profile_specified',\n",
       " 'description_specified',\n",
       " 'requirements_specified',\n",
       " 'benefits_specified']"
      ]
     },
     "execution_count": 17,
     "metadata": {},
     "output_type": "execute_result"
    }
   ],
   "source": [
    "bin_features"
   ]
  },
  {
   "cell_type": "code",
   "execution_count": 18,
   "metadata": {},
   "outputs": [
    {
     "data": {
      "text/html": [
       "<div>\n",
       "<style scoped>\n",
       "    .dataframe tbody tr th:only-of-type {\n",
       "        vertical-align: middle;\n",
       "    }\n",
       "\n",
       "    .dataframe tbody tr th {\n",
       "        vertical-align: top;\n",
       "    }\n",
       "\n",
       "    .dataframe thead th {\n",
       "        text-align: right;\n",
       "    }\n",
       "</style>\n",
       "<table border=\"1\" class=\"dataframe\">\n",
       "  <thead>\n",
       "    <tr style=\"text-align: right;\">\n",
       "      <th></th>\n",
       "      <th>title</th>\n",
       "      <th>company_profile</th>\n",
       "      <th>description</th>\n",
       "      <th>requirements</th>\n",
       "      <th>benefits</th>\n",
       "    </tr>\n",
       "  </thead>\n",
       "  <tbody>\n",
       "    <tr>\n",
       "      <th>0</th>\n",
       "      <td>Office Manager / HR</td>\n",
       "      <td>NaN</td>\n",
       "      <td>Based in the heart of the City, this exception...</td>\n",
       "      <td>You will have previous experience in running a...</td>\n",
       "      <td>Excellent Salaries Company Benefit PackagesInt...</td>\n",
       "    </tr>\n",
       "    <tr>\n",
       "      <th>1</th>\n",
       "      <td>Director of Account Management</td>\n",
       "      <td>NaN</td>\n",
       "      <td>The Director of Account Management brings stro...</td>\n",
       "      <td>8+ years experience in an account management a...</td>\n",
       "      <td>NaN</td>\n",
       "    </tr>\n",
       "    <tr>\n",
       "      <th>2</th>\n",
       "      <td>Brand Manager [Contract position]</td>\n",
       "      <td>Since 1978Our goal has been to create engaging...</td>\n",
       "      <td>Drake Cooper Brand Managers help clients grow ...</td>\n",
       "      <td>Education:  BS/BA degree in advertising / mar...</td>\n",
       "      <td>ABOUT DRAKE COOPERWe are a Northwest U.S. adve...</td>\n",
       "    </tr>\n",
       "    <tr>\n",
       "      <th>3</th>\n",
       "      <td>Web Developer</td>\n",
       "      <td>We are a technology focused company with an es...</td>\n",
       "      <td>This position is for a talented PHP/MYSQL/JQue...</td>\n",
       "      <td>Solid object-oriented design, programming, and...</td>\n",
       "      <td>NaN</td>\n",
       "    </tr>\n",
       "    <tr>\n",
       "      <th>4</th>\n",
       "      <td>Performance Improvement Director</td>\n",
       "      <td>NaN</td>\n",
       "      <td>Oversees implementation and operation of Perfo...</td>\n",
       "      <td>Quality-oriented consulting company with a foc...</td>\n",
       "      <td>Full-time position.Quality benefits package of...</td>\n",
       "    </tr>\n",
       "  </tbody>\n",
       "</table>\n",
       "</div>"
      ],
      "text/plain": [
       "                               title  \\\n",
       "0              Office Manager / HR     \n",
       "1     Director of Account Management   \n",
       "2  Brand Manager [Contract position]   \n",
       "3                      Web Developer   \n",
       "4   Performance Improvement Director   \n",
       "\n",
       "                                     company_profile  \\\n",
       "0                                                NaN   \n",
       "1                                                NaN   \n",
       "2  Since 1978Our goal has been to create engaging...   \n",
       "3  We are a technology focused company with an es...   \n",
       "4                                                NaN   \n",
       "\n",
       "                                         description  \\\n",
       "0  Based in the heart of the City, this exception...   \n",
       "1  The Director of Account Management brings stro...   \n",
       "2  Drake Cooper Brand Managers help clients grow ...   \n",
       "3  This position is for a talented PHP/MYSQL/JQue...   \n",
       "4  Oversees implementation and operation of Perfo...   \n",
       "\n",
       "                                        requirements  \\\n",
       "0  You will have previous experience in running a...   \n",
       "1  8+ years experience in an account management a...   \n",
       "2   Education:  BS/BA degree in advertising / mar...   \n",
       "3  Solid object-oriented design, programming, and...   \n",
       "4  Quality-oriented consulting company with a foc...   \n",
       "\n",
       "                                            benefits  \n",
       "0  Excellent Salaries Company Benefit PackagesInt...  \n",
       "1                                                NaN  \n",
       "2  ABOUT DRAKE COOPERWe are a Northwest U.S. adve...  \n",
       "3                                                NaN  \n",
       "4  Full-time position.Quality benefits package of...  "
      ]
     },
     "execution_count": 18,
     "metadata": {},
     "output_type": "execute_result"
    }
   ],
   "source": [
    "data.head()[text_features]"
   ]
  },
  {
   "cell_type": "code",
   "execution_count": 19,
   "metadata": {},
   "outputs": [],
   "source": [
    "for feature_name in text_features[1:]:\n",
    "    test[feature_name].fillna('', inplace=True)\n",
    "for feature_name in text_features[1:]:\n",
    "    data[feature_name].fillna('', inplace=True)"
   ]
  },
  {
   "cell_type": "code",
   "execution_count": 22,
   "metadata": {},
   "outputs": [],
   "source": [
    "import nltk\n",
    "from nltk.corpus import stopwords\n",
    "from nltk.tokenize import word_tokenize\n",
    "from nltk.stem import PorterStemmer\n",
    "languages = ['english']"
   ]
  },
  {
   "cell_type": "code",
   "execution_count": 23,
   "metadata": {},
   "outputs": [],
   "source": [
    "stop_words = set(stopwords.words(languages))"
   ]
  },
  {
   "cell_type": "code",
   "execution_count": 24,
   "metadata": {},
   "outputs": [
    {
     "data": {
      "text/plain": [
       "0                    GB, LND, \n",
       "1        US, CA, San Francisco\n",
       "2                  US, , Boise\n",
       "3                       GR, , \n",
       "4                       US, , \n",
       "5     US, CA, Huntington beach\n",
       "6       US, VA, Virginia Beach\n",
       "7                US, ND, Fargo\n",
       "8                  EG, C, Maad\n",
       "9              US, IL, Chicago\n",
       "10              VI, , Multiple\n",
       "11             US, IL, Chicago\n",
       "12            ES, VC, Valencia\n",
       "13          GB, ESS, Brentwood\n",
       "14              US, CO, Denver\n",
       "Name: location, dtype: object"
      ]
     },
     "execution_count": 24,
     "metadata": {},
     "output_type": "execute_result"
    }
   ],
   "source": [
    "location = data['location'].copy()\n",
    "location.head(15)"
   ]
  },
  {
   "cell_type": "code",
   "execution_count": 25,
   "metadata": {},
   "outputs": [
    {
     "data": {
      "text/plain": [
       "0         IN, KA, Bangalore\n",
       "1           NZ, N, Auckland\n",
       "2             NG, LA, lagos\n",
       "3     GB, MAN, Old Trafford\n",
       "4          NZ, N, Auckland \n",
       "5     US, NY, New York City\n",
       "6                    NZ, , \n",
       "7                 GB, LND, \n",
       "8           CA, ON, London \n",
       "9       GB, BIR, Birmingham\n",
       "10            US, TX, Plano\n",
       "11           US, TX, Austin\n",
       "12                      NaN\n",
       "13          GB, LND, London\n",
       "14           US, NC, Durham\n",
       "Name: location, dtype: object"
      ]
     },
     "execution_count": 25,
     "metadata": {},
     "output_type": "execute_result"
    }
   ],
   "source": [
    "location_test = test['location'].copy()\n",
    "location_test.head(15)"
   ]
  },
  {
   "cell_type": "code",
   "execution_count": 26,
   "metadata": {},
   "outputs": [],
   "source": [
    "location_splitted = list(location.str.split(', ').values)\n",
    "location_splitted_test = list(location_test.str.split(', ').values)"
   ]
  },
  {
   "cell_type": "code",
   "execution_count": 27,
   "metadata": {},
   "outputs": [],
   "source": [
    "for loc_ind, loc in enumerate(location_splitted):\n",
    "    if loc is np.nan:\n",
    "        location_splitted[loc_ind] = ['Unpecified'] * 3\n",
    "    else:\n",
    "        for el_ind, el in enumerate(loc):\n",
    "            if el == '':\n",
    "                loc[el_ind] = 'Unpecified'\n",
    "for loc_ind, loc in enumerate(location_splitted_test):\n",
    "    if loc is np.nan:\n",
    "        location_splitted_test[loc_ind] = ['Unpecified'] * 3\n",
    "    else:\n",
    "        for el_ind, el in enumerate(loc):\n",
    "            if el == '':\n",
    "                loc[el_ind] = 'Unpecified'"
   ]
  },
  {
   "cell_type": "code",
   "execution_count": 28,
   "metadata": {},
   "outputs": [],
   "source": [
    "location_splitted = list(map(lambda loc: list(loc), location_splitted))\n",
    "location_splitted_test = list(map(lambda loc: list(loc), location_splitted_test))"
   ]
  },
  {
   "cell_type": "code",
   "execution_count": 29,
   "metadata": {},
   "outputs": [],
   "source": [
    "for loc_ind, loc in enumerate(location_splitted_test):\n",
    "    if len(loc) > 3:\n",
    "        location_splitted_test[loc_ind] = loc[:2] + [', '.join(loc[2:])]\n",
    "    if len(loc) < 3:\n",
    "        location_splitted_test[loc_ind] += ['Unpecified'] * 2\n",
    "for loc_ind, loc in enumerate(location_splitted):\n",
    "    if len(loc) > 3:\n",
    "        location_splitted[loc_ind] = loc[:2] + [', '.join(loc[2:])]\n",
    "    if len(loc) < 3:\n",
    "        location_splitted[loc_ind] += ['Unpecified'] * 2"
   ]
  },
  {
   "cell_type": "code",
   "execution_count": 30,
   "metadata": {},
   "outputs": [],
   "source": [
    "data_location = pd.DataFrame(location_splitted, columns=['country', 'state', 'city'])\n",
    "test_location = pd.DataFrame(location_splitted_test, columns=['country', 'state', 'city'])"
   ]
  },
  {
   "cell_type": "code",
   "execution_count": 31,
   "metadata": {},
   "outputs": [
    {
     "data": {
      "text/html": [
       "<div>\n",
       "<style scoped>\n",
       "    .dataframe tbody tr th:only-of-type {\n",
       "        vertical-align: middle;\n",
       "    }\n",
       "\n",
       "    .dataframe tbody tr th {\n",
       "        vertical-align: top;\n",
       "    }\n",
       "\n",
       "    .dataframe thead th {\n",
       "        text-align: right;\n",
       "    }\n",
       "</style>\n",
       "<table border=\"1\" class=\"dataframe\">\n",
       "  <thead>\n",
       "    <tr style=\"text-align: right;\">\n",
       "      <th></th>\n",
       "      <th>country</th>\n",
       "      <th>state</th>\n",
       "      <th>city</th>\n",
       "    </tr>\n",
       "  </thead>\n",
       "  <tbody>\n",
       "    <tr>\n",
       "      <th>0</th>\n",
       "      <td>IN</td>\n",
       "      <td>KA</td>\n",
       "      <td>Bangalore</td>\n",
       "    </tr>\n",
       "    <tr>\n",
       "      <th>1</th>\n",
       "      <td>NZ</td>\n",
       "      <td>N</td>\n",
       "      <td>Auckland</td>\n",
       "    </tr>\n",
       "    <tr>\n",
       "      <th>2</th>\n",
       "      <td>NG</td>\n",
       "      <td>LA</td>\n",
       "      <td>lagos</td>\n",
       "    </tr>\n",
       "    <tr>\n",
       "      <th>3</th>\n",
       "      <td>GB</td>\n",
       "      <td>MAN</td>\n",
       "      <td>Old Trafford</td>\n",
       "    </tr>\n",
       "    <tr>\n",
       "      <th>4</th>\n",
       "      <td>NZ</td>\n",
       "      <td>N</td>\n",
       "      <td>Auckland</td>\n",
       "    </tr>\n",
       "    <tr>\n",
       "      <th>5</th>\n",
       "      <td>US</td>\n",
       "      <td>NY</td>\n",
       "      <td>New York City</td>\n",
       "    </tr>\n",
       "    <tr>\n",
       "      <th>6</th>\n",
       "      <td>NZ</td>\n",
       "      <td>Unpecified</td>\n",
       "      <td>Unpecified</td>\n",
       "    </tr>\n",
       "    <tr>\n",
       "      <th>7</th>\n",
       "      <td>GB</td>\n",
       "      <td>LND</td>\n",
       "      <td>Unpecified</td>\n",
       "    </tr>\n",
       "    <tr>\n",
       "      <th>8</th>\n",
       "      <td>CA</td>\n",
       "      <td>ON</td>\n",
       "      <td>London</td>\n",
       "    </tr>\n",
       "    <tr>\n",
       "      <th>9</th>\n",
       "      <td>GB</td>\n",
       "      <td>BIR</td>\n",
       "      <td>Birmingham</td>\n",
       "    </tr>\n",
       "    <tr>\n",
       "      <th>10</th>\n",
       "      <td>US</td>\n",
       "      <td>TX</td>\n",
       "      <td>Plano</td>\n",
       "    </tr>\n",
       "    <tr>\n",
       "      <th>11</th>\n",
       "      <td>US</td>\n",
       "      <td>TX</td>\n",
       "      <td>Austin</td>\n",
       "    </tr>\n",
       "    <tr>\n",
       "      <th>12</th>\n",
       "      <td>Unpecified</td>\n",
       "      <td>Unpecified</td>\n",
       "      <td>Unpecified</td>\n",
       "    </tr>\n",
       "    <tr>\n",
       "      <th>13</th>\n",
       "      <td>GB</td>\n",
       "      <td>LND</td>\n",
       "      <td>London</td>\n",
       "    </tr>\n",
       "    <tr>\n",
       "      <th>14</th>\n",
       "      <td>US</td>\n",
       "      <td>NC</td>\n",
       "      <td>Durham</td>\n",
       "    </tr>\n",
       "  </tbody>\n",
       "</table>\n",
       "</div>"
      ],
      "text/plain": [
       "       country       state           city\n",
       "0           IN          KA      Bangalore\n",
       "1           NZ           N       Auckland\n",
       "2           NG          LA          lagos\n",
       "3           GB         MAN   Old Trafford\n",
       "4           NZ           N      Auckland \n",
       "5           US          NY  New York City\n",
       "6           NZ  Unpecified     Unpecified\n",
       "7           GB         LND     Unpecified\n",
       "8           CA          ON        London \n",
       "9           GB         BIR     Birmingham\n",
       "10          US          TX          Plano\n",
       "11          US          TX         Austin\n",
       "12  Unpecified  Unpecified     Unpecified\n",
       "13          GB         LND         London\n",
       "14          US          NC         Durham"
      ]
     },
     "execution_count": 31,
     "metadata": {},
     "output_type": "execute_result"
    }
   ],
   "source": [
    "test_location.head(15)"
   ]
  },
  {
   "cell_type": "code",
   "execution_count": 32,
   "metadata": {},
   "outputs": [],
   "source": [
    "cat_features += ['country', 'state', 'city']"
   ]
  },
  {
   "cell_type": "code",
   "execution_count": 33,
   "metadata": {},
   "outputs": [],
   "source": [
    "data = pd.concat([data, data_location], axis=1)\n",
    "test = pd.concat([test, test_location], axis=1)"
   ]
  },
  {
   "cell_type": "code",
   "execution_count": 34,
   "metadata": {},
   "outputs": [],
   "source": [
    "data.drop('location', axis=1, inplace=True)\n",
    "test.drop('location', axis=1, inplace=True)"
   ]
  },
  {
   "cell_type": "code",
   "execution_count": 35,
   "metadata": {},
   "outputs": [],
   "source": [
    "salary_range = data.salary_range.copy()\n",
    "salary_range_test = test.salary_range.copy()"
   ]
  },
  {
   "cell_type": "code",
   "execution_count": 36,
   "metadata": {},
   "outputs": [],
   "source": [
    "salary_range.fillna('0-0', inplace=True)\n",
    "salary_range_test.fillna('0-0', inplace=True)"
   ]
  },
  {
   "cell_type": "code",
   "execution_count": 37,
   "metadata": {},
   "outputs": [
    {
     "data": {
      "text/plain": [
       "[['0', '0'], ['0', '0'], ['0', '0'], ['0', '0'], ['0', '0']]"
      ]
     },
     "execution_count": 37,
     "metadata": {},
     "output_type": "execute_result"
    }
   ],
   "source": [
    "salary_range_sep = list(salary_range.str.split('-').values)\n",
    "salary_range_sep[:5]"
   ]
  },
  {
   "cell_type": "code",
   "execution_count": 38,
   "metadata": {},
   "outputs": [
    {
     "data": {
      "text/plain": [
       "[['0', '0'], ['0', '0'], ['0', '0'], ['0', '0'], ['0', '0']]"
      ]
     },
     "execution_count": 38,
     "metadata": {},
     "output_type": "execute_result"
    }
   ],
   "source": [
    "salary_range_sep_test = list(salary_range_test.str.split('-').values)\n",
    "salary_range_sep_test[:5]"
   ]
  },
  {
   "cell_type": "code",
   "execution_count": 39,
   "metadata": {},
   "outputs": [],
   "source": [
    "for range_ind, s_range in enumerate(salary_range_sep):\n",
    "    if len(s_range) < 2 or len(s_range) > 2:\n",
    "        print(range_ind, s_range)"
   ]
  },
  {
   "cell_type": "code",
   "execution_count": 40,
   "metadata": {},
   "outputs": [
    {
     "name": "stdout",
     "output_type": "stream",
     "text": [
      "6421 ['40000']\n"
     ]
    }
   ],
   "source": [
    "for range_ind, s_range in enumerate(salary_range_sep_test):\n",
    "    if len(s_range) < 2 or len(s_range) > 2:\n",
    "        print(range_ind, s_range)"
   ]
  },
  {
   "cell_type": "code",
   "execution_count": 41,
   "metadata": {},
   "outputs": [],
   "source": [
    "salary_range_sep_test[6421] = ['40000', '40000']"
   ]
  },
  {
   "cell_type": "code",
   "execution_count": 42,
   "metadata": {},
   "outputs": [
    {
     "name": "stdout",
     "output_type": "stream",
     "text": [
      "1017 ('11', 'Nov')\n",
      "1238 ('10', 'Nov')\n",
      "2718 ('10', 'Nov')\n",
      "2744 ('Oct', '15')\n",
      "3495 ('10', 'Oct')\n",
      "4096 ('10', 'Oct')\n",
      "4252 ('Jun', '18')\n",
      "4439 ('Dec', '25')\n",
      "5881 ('11', 'Dec')\n",
      "7145 ('8', 'Sep')\n"
     ]
    }
   ],
   "source": [
    "error_range_inds_test = []\n",
    "for range_ind, s_range in enumerate(salary_range_sep_test):\n",
    "    min_value, max_value = s_range\n",
    "    if not min_value.isdigit() or not max_value.isdigit():\n",
    "        print(range_ind, (min_value, max_value))\n",
    "        error_range_inds_test += [range_ind]"
   ]
  },
  {
   "cell_type": "code",
   "execution_count": 43,
   "metadata": {},
   "outputs": [
    {
     "name": "stdout",
     "output_type": "stream",
     "text": [
      "152 ('11', 'Nov')\n",
      "690 ('10', 'Oct')\n",
      "748 ('10', 'Oct')\n",
      "877 ('10', 'Nov')\n",
      "913 ('9', 'Dec')\n",
      "1262 ('10', 'Nov')\n",
      "2421 ('2', 'Apr')\n",
      "3468 ('10', 'Oct')\n",
      "4006 ('Oct', '20')\n",
      "4162 ('10', 'Oct')\n",
      "4554 ('2', 'Jun')\n",
      "5281 ('Oct', '20')\n",
      "5628 ('10', 'Nov')\n",
      "6552 ('4', 'Apr')\n",
      "9510 ('3', 'Apr')\n",
      "9759 ('4', 'Jun')\n"
     ]
    }
   ],
   "source": [
    "error_range_inds = []\n",
    "for range_ind, s_range in enumerate(salary_range_sep):\n",
    "    min_value, max_value = s_range\n",
    "    if not min_value.isdigit() or not max_value.isdigit():\n",
    "        print(range_ind, (min_value, max_value))\n",
    "        error_range_inds += [range_ind]"
   ]
  },
  {
   "cell_type": "code",
   "execution_count": 44,
   "metadata": {},
   "outputs": [],
   "source": [
    "for range_ind in error_range_inds:\n",
    "    salary_range_sep[range_ind] = ['0', '0']"
   ]
  },
  {
   "cell_type": "code",
   "execution_count": 45,
   "metadata": {},
   "outputs": [],
   "source": [
    "for range_ind in error_range_inds_test:\n",
    "    salary_range_sep_test[range_ind] = ['0', '0']"
   ]
  },
  {
   "cell_type": "code",
   "execution_count": 46,
   "metadata": {},
   "outputs": [],
   "source": [
    "data_salary_range = pd.DataFrame(np.array(salary_range_sep, dtype='int64'), \n",
    "                                 columns=['min_salary', 'max_salary'])"
   ]
  },
  {
   "cell_type": "code",
   "execution_count": 47,
   "metadata": {},
   "outputs": [],
   "source": [
    "test_salary_range = pd.DataFrame(np.array(salary_range_sep_test, dtype='int64'), \n",
    "                                 columns=['min_salary', 'max_salary'])"
   ]
  },
  {
   "cell_type": "code",
   "execution_count": 48,
   "metadata": {},
   "outputs": [],
   "source": [
    "data_salary_range['salary_specified'] = ((data_salary_range.min_salary != 0) | \n",
    "                                         (data_salary_range.max_salary != 0)).astype('int64')"
   ]
  },
  {
   "cell_type": "code",
   "execution_count": 49,
   "metadata": {},
   "outputs": [],
   "source": [
    "test_salary_range['salary_specified'] = ((test_salary_range.min_salary != 0) | \n",
    "                                         (test_salary_range.max_salary != 0)).astype('int64')"
   ]
  },
  {
   "cell_type": "code",
   "execution_count": 50,
   "metadata": {},
   "outputs": [],
   "source": [
    "num_features = ['min_salary', 'max_salary']\n",
    "bin_features += ['salary_specified']"
   ]
  },
  {
   "cell_type": "code",
   "execution_count": 51,
   "metadata": {},
   "outputs": [],
   "source": [
    "data = pd.concat([data, data_salary_range], axis=1)\n",
    "test = pd.concat([test, test_salary_range], axis=1)"
   ]
  },
  {
   "cell_type": "code",
   "execution_count": 52,
   "metadata": {},
   "outputs": [],
   "source": [
    "test.drop('salary_range', axis=1, inplace=True)\n",
    "data.drop('salary_range', axis=1, inplace=True)"
   ]
  },
  {
   "cell_type": "code",
   "execution_count": 53,
   "metadata": {},
   "outputs": [
    {
     "name": "stdout",
     "output_type": "stream",
     "text": [
      "<class 'pandas.core.frame.DataFrame'>\n",
      "RangeIndex: 9999 entries, 0 to 9998\n",
      "Data columns (total 25 columns):\n",
      " #   Column                     Non-Null Count  Dtype \n",
      "---  ------                     --------------  ----- \n",
      " 0   title                      9999 non-null   object\n",
      " 1   department                 9999 non-null   object\n",
      " 2   company_profile            9999 non-null   object\n",
      " 3   description                9999 non-null   object\n",
      " 4   requirements               9999 non-null   object\n",
      " 5   benefits                   9999 non-null   object\n",
      " 6   telecommuting              9999 non-null   int64 \n",
      " 7   has_company_logo           9999 non-null   int64 \n",
      " 8   has_questions              9999 non-null   int64 \n",
      " 9   employment_type            9999 non-null   object\n",
      " 10  required_experience        9999 non-null   object\n",
      " 11  required_education         9999 non-null   object\n",
      " 12  industry                   9999 non-null   object\n",
      " 13  function                   9999 non-null   object\n",
      " 14  fraudulent                 9999 non-null   int64 \n",
      " 15  company_profile_specified  9999 non-null   int64 \n",
      " 16  description_specified      9999 non-null   int64 \n",
      " 17  requirements_specified     9999 non-null   int64 \n",
      " 18  benefits_specified         9999 non-null   int64 \n",
      " 19  country                    9999 non-null   object\n",
      " 20  state                      9999 non-null   object\n",
      " 21  city                       9999 non-null   object\n",
      " 22  min_salary                 9999 non-null   int64 \n",
      " 23  max_salary                 9999 non-null   int64 \n",
      " 24  salary_specified           9999 non-null   int64 \n",
      "dtypes: int64(11), object(14)\n",
      "memory usage: 1.9+ MB\n",
      "<class 'pandas.core.frame.DataFrame'>\n",
      "RangeIndex: 7881 entries, 0 to 7880\n",
      "Data columns (total 24 columns):\n",
      " #   Column                     Non-Null Count  Dtype \n",
      "---  ------                     --------------  ----- \n",
      " 0   title                      7881 non-null   object\n",
      " 1   department                 7881 non-null   object\n",
      " 2   company_profile            7881 non-null   object\n",
      " 3   description                7881 non-null   object\n",
      " 4   requirements               7881 non-null   object\n",
      " 5   benefits                   7881 non-null   object\n",
      " 6   telecommuting              7881 non-null   int64 \n",
      " 7   has_company_logo           7881 non-null   int64 \n",
      " 8   has_questions              7881 non-null   int64 \n",
      " 9   employment_type            7881 non-null   object\n",
      " 10  required_experience        7881 non-null   object\n",
      " 11  required_education         7881 non-null   object\n",
      " 12  industry                   7881 non-null   object\n",
      " 13  function                   7881 non-null   object\n",
      " 14  company_profile_specified  7881 non-null   int64 \n",
      " 15  description_specified      7881 non-null   int64 \n",
      " 16  requirements_specified     7881 non-null   int64 \n",
      " 17  benefits_specified         7881 non-null   int64 \n",
      " 18  country                    7881 non-null   object\n",
      " 19  state                      7881 non-null   object\n",
      " 20  city                       7881 non-null   object\n",
      " 21  min_salary                 7881 non-null   int64 \n",
      " 22  max_salary                 7881 non-null   int64 \n",
      " 23  salary_specified           7881 non-null   int64 \n",
      "dtypes: int64(10), object(14)\n",
      "memory usage: 1.4+ MB\n"
     ]
    }
   ],
   "source": [
    "data.fillna('Unspecified', inplace=True)\n",
    "data.info()\n",
    "test.fillna('Unspecified', inplace=True)\n",
    "test.info()"
   ]
  },
  {
   "cell_type": "code",
   "execution_count": 54,
   "metadata": {},
   "outputs": [
    {
     "data": {
      "text/html": [
       "<div>\n",
       "<style scoped>\n",
       "    .dataframe tbody tr th:only-of-type {\n",
       "        vertical-align: middle;\n",
       "    }\n",
       "\n",
       "    .dataframe tbody tr th {\n",
       "        vertical-align: top;\n",
       "    }\n",
       "\n",
       "    .dataframe thead th {\n",
       "        text-align: right;\n",
       "    }\n",
       "</style>\n",
       "<table border=\"1\" class=\"dataframe\">\n",
       "  <thead>\n",
       "    <tr style=\"text-align: right;\">\n",
       "      <th></th>\n",
       "      <th>company_profile_count_of_words</th>\n",
       "      <th>requirements_count_of_words</th>\n",
       "    </tr>\n",
       "  </thead>\n",
       "  <tbody>\n",
       "    <tr>\n",
       "      <th>0</th>\n",
       "      <td>1</td>\n",
       "      <td>124</td>\n",
       "    </tr>\n",
       "    <tr>\n",
       "      <th>1</th>\n",
       "      <td>1</td>\n",
       "      <td>58</td>\n",
       "    </tr>\n",
       "    <tr>\n",
       "      <th>2</th>\n",
       "      <td>112</td>\n",
       "      <td>50</td>\n",
       "    </tr>\n",
       "    <tr>\n",
       "      <th>3</th>\n",
       "      <td>140</td>\n",
       "      <td>78</td>\n",
       "    </tr>\n",
       "    <tr>\n",
       "      <th>4</th>\n",
       "      <td>1</td>\n",
       "      <td>23</td>\n",
       "    </tr>\n",
       "  </tbody>\n",
       "</table>\n",
       "</div>"
      ],
      "text/plain": [
       "   company_profile_count_of_words  requirements_count_of_words\n",
       "0                               1                          124\n",
       "1                               1                           58\n",
       "2                             112                           50\n",
       "3                             140                           78\n",
       "4                               1                           23"
      ]
     },
     "execution_count": 54,
     "metadata": {},
     "output_type": "execute_result"
    }
   ],
   "source": [
    "data['company_profile_count_of_words'] = data['company_profile'].astype(str).str.split(' ').apply(len)\n",
    "data['requirements_count_of_words'] = data['requirements'].astype(str).str.split(' ').apply(len)\n",
    "data.head()[['company_profile_count_of_words', 'requirements_count_of_words']]"
   ]
  },
  {
   "cell_type": "code",
   "execution_count": 55,
   "metadata": {},
   "outputs": [
    {
     "data": {
      "text/html": [
       "<div>\n",
       "<style scoped>\n",
       "    .dataframe tbody tr th:only-of-type {\n",
       "        vertical-align: middle;\n",
       "    }\n",
       "\n",
       "    .dataframe tbody tr th {\n",
       "        vertical-align: top;\n",
       "    }\n",
       "\n",
       "    .dataframe thead th {\n",
       "        text-align: right;\n",
       "    }\n",
       "</style>\n",
       "<table border=\"1\" class=\"dataframe\">\n",
       "  <thead>\n",
       "    <tr style=\"text-align: right;\">\n",
       "      <th></th>\n",
       "      <th>company_profile_count_of_words</th>\n",
       "      <th>requirements_count_of_words</th>\n",
       "    </tr>\n",
       "  </thead>\n",
       "  <tbody>\n",
       "    <tr>\n",
       "      <th>0</th>\n",
       "      <td>402</td>\n",
       "      <td>377</td>\n",
       "    </tr>\n",
       "    <tr>\n",
       "      <th>1</th>\n",
       "      <td>283</td>\n",
       "      <td>39</td>\n",
       "    </tr>\n",
       "    <tr>\n",
       "      <th>2</th>\n",
       "      <td>1</td>\n",
       "      <td>23</td>\n",
       "    </tr>\n",
       "    <tr>\n",
       "      <th>3</th>\n",
       "      <td>131</td>\n",
       "      <td>15</td>\n",
       "    </tr>\n",
       "    <tr>\n",
       "      <th>4</th>\n",
       "      <td>181</td>\n",
       "      <td>79</td>\n",
       "    </tr>\n",
       "  </tbody>\n",
       "</table>\n",
       "</div>"
      ],
      "text/plain": [
       "   company_profile_count_of_words  requirements_count_of_words\n",
       "0                             402                          377\n",
       "1                             283                           39\n",
       "2                               1                           23\n",
       "3                             131                           15\n",
       "4                             181                           79"
      ]
     },
     "execution_count": 55,
     "metadata": {},
     "output_type": "execute_result"
    }
   ],
   "source": [
    "test['company_profile_count_of_words'] = test['company_profile'].astype(str).str.split(' ').apply(len)\n",
    "test['requirements_count_of_words'] = test['requirements'].astype(str).str.split(' ').apply(len)\n",
    "test.head()[['company_profile_count_of_words', 'requirements_count_of_words']]"
   ]
  },
  {
   "cell_type": "code",
   "execution_count": 56,
   "metadata": {},
   "outputs": [],
   "source": [
    "num_features += ['company_profile_count_of_words', 'requirements_count_of_words']"
   ]
  },
  {
   "cell_type": "code",
   "execution_count": 57,
   "metadata": {},
   "outputs": [],
   "source": [
    "data_1f = data[data.fraudulent == 1]"
   ]
  },
  {
   "cell_type": "code",
   "execution_count": 58,
   "metadata": {},
   "outputs": [],
   "source": [
    "original_data = data.copy()\n",
    "data = pd.concat([data] + [data_1f] * 7, axis=0)"
   ]
  },
  {
   "cell_type": "code",
   "execution_count": 60,
   "metadata": {},
   "outputs": [],
   "source": [
    "from sklearn.model_selection import StratifiedKFold\n",
    "from sklearn.compose import ColumnTransformer\n",
    "from sklearn.pipeline import Pipeline\n",
    "from sklearn.preprocessing import StandardScaler, OneHotEncoder\n",
    "from sklearn.linear_model import LogisticRegression\n",
    "from sklearn.model_selection import cross_validate\n",
    "from sklearn.feature_extraction.text import TfidfVectorizer"
   ]
  },
  {
   "cell_type": "code",
   "execution_count": 61,
   "metadata": {},
   "outputs": [],
   "source": [
    "skf = StratifiedKFold(n_splits=4, random_state=42)"
   ]
  },
  {
   "cell_type": "code",
   "execution_count": 62,
   "metadata": {},
   "outputs": [],
   "source": [
    "X, y = data.drop('fraudulent', axis=1), data.fraudulent"
   ]
  },
  {
   "cell_type": "code",
   "execution_count": 63,
   "metadata": {},
   "outputs": [],
   "source": [
    "num_transformer = Pipeline(steps=[('scaler', StandardScaler())])\n",
    "cat_transformer = Pipeline(steps=[('onehot', OneHotEncoder(handle_unknown='ignore'))])\n",
    "text_transformer = Pipeline(steps=[('tfidf', TfidfVectorizer(ngram_range=(1, 2)))])\n",
    "\n",
    "preprocessor = ColumnTransformer(\n",
    "    transformers=[\n",
    "        ('num', num_transformer, num_features),\n",
    "        ('cat', cat_transformer, cat_features),\n",
    "        *[(feature_name, text_transformer, feature_name) \n",
    "          for feature_name in text_features]\n",
    "    ]\n",
    ")"
   ]
  },
  {
   "cell_type": "code",
   "execution_count": 64,
   "metadata": {},
   "outputs": [],
   "source": [
    "log_reg_pipe = Pipeline(steps=[('preprocessor', preprocessor),\n",
    "                               ('classifier', LogisticRegression())])"
   ]
  },
  {
   "cell_type": "code",
   "execution_count": null,
   "metadata": {},
   "outputs": [],
   "source": [
    "model=log_reg_pipe.fit(X,y)\n",
    "result=model.predict(test)\n",
    "result_pro=model.predict_proba(test)\n",
    "result_pro.shape\n",
    "np.savetxt(\"result.csv\", result_pro, delimiter=\",\")"
   ]
  }
 ],
 "metadata": {
  "kernelspec": {
   "display_name": "Python3 (PySpark)",
   "language": "python",
   "name": "python3"
  },
  "language_info": {
   "codemirror_mode": {
    "name": "ipython",
    "version": 3
   },
   "file_extension": ".py",
   "mimetype": "text/x-python",
   "name": "python",
   "nbconvert_exporter": "python",
   "pygments_lexer": "ipython3",
   "version": "3.6.7"
  }
 },
 "nbformat": 4,
 "nbformat_minor": 4
}
